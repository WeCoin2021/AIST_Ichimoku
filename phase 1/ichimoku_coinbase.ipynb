{
 "cells": [
  {
   "cell_type": "markdown",
   "id": "7a8554fa",
   "metadata": {},
   "source": [
    "loading coinbase_Dataset ..."
   ]
  },
  {
   "cell_type": "code",
   "execution_count": null,
   "id": "83316564",
   "metadata": {},
   "outputs": [],
   "source": [
    "import pandas as pd\n",
    "\n",
    "data = pd.read_excel(\"coinbase_Dataset.xlsx\")\n",
    "\n",
    "high_prices = data['High']\n",
    "close_prices = data['Close']\n",
    "low_prices = data['Low']\n",
    "dates = data['timestamp']\n"
   ]
  },
  {
   "cell_type": "markdown",
   "id": "f4fc09b2",
   "metadata": {},
   "source": [
    "ichimoku cloud-Conversion line or(Tenkan-sen): (max of 9-period 'High' + min of 9-period 'Low') / 2 .\n"
   ]
  },
  {
   "cell_type": "code",
   "execution_count": null,
   "id": "f1989e8a",
   "metadata": {},
   "outputs": [],
   "source": [
    "nine_period_high = data['High'].rolling(window = 9).max()\n",
    "nine_period_low = data['Low'].rolling(window = 9).min()\n",
    "data['ichimoku cloud-Conversion line'] = (nine_period_high + nine_period_low) /2\n"
   ]
  },
  {
   "cell_type": "markdown",
   "id": "8c558d43",
   "metadata": {},
   "source": [
    "ichimoku cloud-Base line or(Kijun-sen): ( max of 26-period 'High' + min of 26-period 'Low') / 2 .\n"
   ]
  },
  {
   "cell_type": "code",
   "execution_count": null,
   "id": "b7edc370",
   "metadata": {},
   "outputs": [],
   "source": [
    "period26_high = data['High'].rolling(window=26).max()\n",
    "period26_low = data['Low'].rolling(window=26).min()\n",
    "data['ichimoku cloud-Base line'] = (period26_high + period26_low) / 2\n"
   ]
  },
  {
   "cell_type": "markdown",
   "id": "3ccba92b",
   "metadata": {},
   "source": [
    "ichimoku cloud-Lagging Span or(chikou_span): The most current closing price plotted 26 time periods behind .\n"
   ]
  },
  {
   "cell_type": "code",
   "execution_count": null,
   "id": "0593eae1",
   "metadata": {},
   "outputs": [],
   "source": [
    "data[\"ichimoku cloud-Lagging Span\"] = close_prices.shift(-25) \n"
   ]
  },
  {
   "cell_type": "markdown",
   "id": "565638c0",
   "metadata": {},
   "source": [
    "ichimoku cloud-Leading Span A or(Senkou Span A): (Conversion Line + Base Line)/2 ,plotted 26 time periods after .\n"
   ]
  },
  {
   "cell_type": "code",
   "execution_count": null,
   "id": "e371c14c",
   "metadata": {},
   "outputs": [],
   "source": [
    "data['ichimoku cloud-Leading Span A'] = ((data['ichimoku cloud-Conversion line'] + data['ichimoku cloud-Base line']) / 2).shift(25)\n"
   ]
  },
  {
   "cell_type": "markdown",
   "id": "b0c3e24b",
   "metadata": {},
   "source": [
    "ichimoku cloud-Leading Span B or(Senkou Span B): (52-period high + 52-period low)/2 ,plotted 26 time periods after .\n"
   ]
  },
  {
   "cell_type": "code",
   "execution_count": null,
   "id": "2236b04e",
   "metadata": {},
   "outputs": [],
   "source": [
    "period52_high = data['High'].rolling(window =52).max()\n",
    "period52_low = data['Low'].rolling(window = 52).min()\n",
    "data['ichimoku cloud-Leading Span B'] = ((period52_high + period52_low) / 2).shift(25)\n"
   ]
  },
  {
   "cell_type": "markdown",
   "id": "2915b1a3",
   "metadata": {},
   "source": [
    "update dataset ...\n"
   ]
  },
  {
   "cell_type": "code",
   "execution_count": null,
   "id": "13d42f05",
   "metadata": {},
   "outputs": [],
   "source": [
    "data.to_excel('final_coinbase_Dataset.xlsx', encoding='utf-8', index=False)"
   ]
  }
 ],
 "metadata": {
  "kernelspec": {
   "display_name": "Python 3 (ipykernel)",
   "language": "python",
   "name": "python3"
  },
  "language_info": {
   "codemirror_mode": {
    "name": "ipython",
    "version": 3
   },
   "file_extension": ".py",
   "mimetype": "text/x-python",
   "name": "python",
   "nbconvert_exporter": "python",
   "pygments_lexer": "ipython3",
   "version": "3.9.7"
  }
 },
 "nbformat": 4,
 "nbformat_minor": 5
}
