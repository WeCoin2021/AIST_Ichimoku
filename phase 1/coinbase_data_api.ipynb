{
  "nbformat": 4,
  "nbformat_minor": 0,
  "metadata": {
    "colab": {
      "name": "coinbase_data_api.ipynb",
      "provenance": []
    },
    "kernelspec": {
      "name": "python3",
      "display_name": "Python 3"
    },
    "language_info": {
      "name": "python"
    }
  },
  "cells": [
    {
      "cell_type": "code",
      "source": [
        "import requests\n",
        "import pandas as pd\n",
        "from datetime import datetime,timedelta\n",
        "\n",
        "\n"
      ],
      "metadata": {
        "id": "IW9_ZThzalN9"
      },
      "execution_count": null,
      "outputs": []
    },
    {
      "cell_type": "code",
      "source": [
        "url0 = \"https://api.pro.coinbase.com/products/BTC-USD/candles?start=2022-03-17&end=2022-04-25&granularity=86400\"\n",
        "headers = {\"Accept\": \"application/json\"}\n",
        "\n",
        "data0 = requests.request(\"GET\", url0, headers=headers).json()\n"
      ],
      "metadata": {
        "id": "2HEJjpE2rJRb"
      },
      "execution_count": null,
      "outputs": []
    },
    {
      "cell_type": "code",
      "execution_count": null,
      "metadata": {
        "id": "i5-KmTKDLRwp"
      },
      "outputs": [],
      "source": [
        "url1 = \"https://api.pro.coinbase.com/products/BTC-USD/candles?start=2021-05-22&end=2022-03-16&granularity=86400\"\n",
        "headers = {\"Accept\": \"application/json\"}\n",
        "\n",
        "data1 = requests.request(\"GET\", url1, headers=headers).json()\n"
      ]
    },
    {
      "cell_type": "code",
      "source": [
        "url2 = \"https://api.pro.coinbase.com/products/BTC-USD/candles?start=2020-07-26&end=2021-05-21&granularity=86400\"\n",
        "headers = {\"Accept\": \"application/json\"}\n",
        "\n",
        "data2 = requests.request(\"GET\", url2, headers=headers).json()\n"
      ],
      "metadata": {
        "id": "Hk7XMh4daxAU"
      },
      "execution_count": null,
      "outputs": []
    },
    {
      "cell_type": "code",
      "source": [
        "url3 = \"https://api.pro.coinbase.com/products/BTC-USD/candles?start=2019-09-30&end=2020-07-25&granularity=86400\"\n",
        "headers = {\"Accept\": \"application/json\"}\n",
        "\n",
        "data3 = requests.request(\"GET\", url3, headers=headers).json()\n"
      ],
      "metadata": {
        "id": "YXbU2wHQa70t"
      },
      "execution_count": null,
      "outputs": []
    },
    {
      "cell_type": "code",
      "source": [
        "url4 = \"https://api.pro.coinbase.com/products/BTC-USD/candles?start=2018-12-04&end=2019-09-29&granularity=86400\"\n",
        "headers = {\"Accept\": \"application/json\"}\n",
        "\n",
        "data4 = requests.request(\"GET\", url4, headers=headers).json()\n"
      ],
      "metadata": {
        "id": "anyoCNTaeMH5"
      },
      "execution_count": null,
      "outputs": []
    },
    {
      "cell_type": "code",
      "source": [
        "url5 = \"https://api.pro.coinbase.com/products/BTC-USD/candles?start=2018-02-07&end=2018-12-03&granularity=86400\"\n",
        "headers = {\"Accept\": \"application/json\"}\n",
        "\n",
        "data5 = requests.request(\"GET\", url5, headers=headers).json()\n"
      ],
      "metadata": {
        "id": "3qaUOV3cgBSm"
      },
      "execution_count": null,
      "outputs": []
    },
    {
      "cell_type": "code",
      "source": [
        "url6 = \"https://api.pro.coinbase.com/products/BTC-USD/candles?start=2017-04-13&end=2018-02-06&granularity=86400\"\n",
        "headers = {\"Accept\": \"application/json\"}\n",
        "\n",
        "data6 = requests.request(\"GET\", url6, headers=headers).json()\n"
      ],
      "metadata": {
        "id": "HYHeDcIVgw5u"
      },
      "execution_count": null,
      "outputs": []
    },
    {
      "cell_type": "code",
      "source": [
        "# finding start date:\n",
        "'''\n",
        "EndDate = \"04/12/17\"\n",
        "Date = datetime.strptime(EndDate, \"%m/%d/%y\")\n",
        "StartDate = Date-timedelta(days=300)\n",
        "print(StartDate)\n",
        "'''\n",
        "\n",
        "url7 = \"https://api.pro.coinbase.com/products/BTC-USD/candles?start=2016-06-17T00:00:00&end=2017-04-12&granularity=86400\"\n",
        "headers = {\"Accept\": \"application/json\"}\n",
        "\n",
        "data7 = requests.request(\"GET\", url7, headers=headers).json()\n"
      ],
      "metadata": {
        "id": "MqJnW5yUhw_1"
      },
      "execution_count": null,
      "outputs": []
    },
    {
      "cell_type": "code",
      "source": [
        "total = []\n",
        "total.extend(data0)\n",
        "total.extend(data1)\n",
        "total.extend(data2)\n",
        "total.extend(data3)\n",
        "total.extend(data4)\n",
        "total.extend(data5)\n",
        "total.extend(data6)\n",
        "total.extend(data7)\n",
        "\n",
        "df = pd.DataFrame(total,\n",
        "                  columns = [\"time\",\"Low\",\"High\",\"Open\",\"Close\",\"Volume\"])\n",
        "\n",
        "df[\"timestamp\"] = pd.to_datetime(df[\"time\"] , unit = 's')\n",
        "df = df[[\"timestamp\" , \"Low\" ,\"High\" ,\"Open\",\"Close\",\"Volume\"]]\n",
        "\n",
        "#print(df)\n"
      ],
      "metadata": {
        "id": "mcVDa51WaZ4L"
      },
      "execution_count": null,
      "outputs": []
    },
    {
      "cell_type": "code",
      "source": [
        "df.to_excel('coinbase_Dataset.xlsx', encoding='utf-8', index=False)"
      ],
      "metadata": {
        "id": "zBWmciZTkMY7"
      },
      "execution_count": null,
      "outputs": []
    },
    {
      "cell_type": "markdown",
      "source": [
        "# New Section"
      ],
      "metadata": {
        "id": "8iwCvpfzlvuC"
      }
    }
  ]
}