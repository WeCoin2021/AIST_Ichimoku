{
  "nbformat": 4,
  "nbformat_minor": 0,
  "metadata": {
    "colab": {
      "name": "ETH_OHLCV.ipynb",
      "provenance": []
    },
    "kernelspec": {
      "name": "python3",
      "display_name": "Python 3"
    },
    "language_info": {
      "name": "python"
    }
  },
  "cells": [
    {
      "cell_type": "code",
      "source": [
        "import requests\n",
        "import pandas as pd\n",
        "from datetime import datetime,timedelta"
      ],
      "metadata": {
        "id": "IW9_ZThzalN9"
      },
      "execution_count": 2,
      "outputs": []
    },
    {
      "cell_type": "markdown",
      "source": [
        "get ETH OHLCV  by coinbase API"
      ],
      "metadata": {
        "id": "uo5P2nczZUov"
      }
    },
    {
      "cell_type": "code",
      "source": [
        "url0 = \"https://api.pro.coinbase.com/products/ETH-USD/candles?start=2022-03-17&end=2022-07-16&granularity=86400\"\n",
        "url1 = \"https://api.pro.coinbase.com/products/ETH-USD/candles?start=2021-05-22&end=2022-03-16&granularity=86400\"\n",
        "url2 = \"https://api.pro.coinbase.com/products/ETH-USD/candles?start=2020-07-26&end=2021-05-21&granularity=86400\"\n",
        "url3 = \"https://api.pro.coinbase.com/products/ETH-USD/candles?start=2019-09-30&end=2020-07-25&granularity=86400\"\n",
        "url4 = \"https://api.pro.coinbase.com/products/ETH-USD/candles?start=2018-12-04&end=2019-09-29&granularity=86400\"\n",
        "url5 = \"https://api.pro.coinbase.com/products/ETH-USD/candles?start=2018-02-07&end=2018-12-03&granularity=86400\"\n",
        "url6 = \"https://api.pro.coinbase.com/products/ETH-USD/candles?start=2017-04-13&end=2018-02-06&granularity=86400\"\n",
        "url7 = \"https://api.pro.coinbase.com/products/ETH-USD/candles?start=2016-06-17&end=2017-04-12&granularity=86400\"\n",
        "headers = {\"Accept\": \"application/json\"}\n",
        "\n",
        "\n",
        "data0 = requests.request(\"GET\", url0, headers=headers).json()\n",
        "data1 = requests.request(\"GET\", url1, headers=headers).json()\n",
        "data2 = requests.request(\"GET\", url2, headers=headers).json()\n",
        "data3 = requests.request(\"GET\", url3, headers=headers).json()\n",
        "data4 = requests.request(\"GET\", url4, headers=headers).json()\n",
        "data5 = requests.request(\"GET\", url5, headers=headers).json()\n",
        "data6 = requests.request(\"GET\", url6, headers=headers).json()\n",
        "data7 = requests.request(\"GET\", url7, headers=headers).json()"
      ],
      "metadata": {
        "id": "Kqn_3AQFZVRn"
      },
      "execution_count": 3,
      "outputs": []
    },
    {
      "cell_type": "markdown",
      "source": [
        "manage CSV"
      ],
      "metadata": {
        "id": "Zrc4Lrqral-3"
      }
    },
    {
      "cell_type": "code",
      "source": [
        "total = []\n",
        "total.extend(data0)\n",
        "total.extend(data1)\n",
        "total.extend(data2)\n",
        "total.extend(data3)\n",
        "total.extend(data4)\n",
        "total.extend(data5)\n",
        "total.extend(data6)\n",
        "total.extend(data7)\n",
        "\n",
        "df = pd.DataFrame(total,\n",
        "                  columns = [\"time\",\"Low\",\"High\",\"Open\",\"Close\",\"Volume\"])\n",
        "\n",
        "df[\"timestamp\"] = pd.to_datetime(df[\"time\"] , unit = 's')\n",
        "df = df[[\"timestamp\" , \"Low\" ,\"High\" ,\"Open\",\"Close\",\"Volume\"]]\n"
      ],
      "metadata": {
        "id": "mcVDa51WaZ4L"
      },
      "execution_count": 5,
      "outputs": []
    },
    {
      "cell_type": "markdown",
      "source": [
        "write to CSV"
      ],
      "metadata": {
        "id": "rEAtDuoIbW9x"
      }
    },
    {
      "cell_type": "code",
      "source": [
        "df.to_excel('ETH_coinbase_Dataset.xlsx', encoding='utf-8', index=False)"
      ],
      "metadata": {
        "id": "v8QGkQrpbapn"
      },
      "execution_count": 6,
      "outputs": []
    }
  ]
}